{
  "nbformat": 4,
  "nbformat_minor": 0,
  "metadata": {
    "colab": {
      "name": "colab1.ipynb",
      "provenance": [],
      "collapsed_sections": [],
      "include_colab_link": true
    },
    "kernelspec": {
      "name": "python3",
      "display_name": "Python 3"
    },
    "accelerator": "GPU"
  },
  "cells": [
    {
      "cell_type": "markdown",
      "metadata": {
        "id": "view-in-github",
        "colab_type": "text"
      },
      "source": [
        "<a href=\"https://colab.research.google.com/github/lilnoes/notebooks/blob/main/horse_or_human_classifier.ipynb\" target=\"_parent\"><img src=\"https://colab.research.google.com/assets/colab-badge.svg\" alt=\"Open In Colab\"/></a>"
      ]
    },
    {
      "cell_type": "code",
      "metadata": {
        "id": "HuiPTzmKE7Tq"
      },
      "source": [
        ""
      ],
      "execution_count": null,
      "outputs": []
    },
    {
      "cell_type": "code",
      "metadata": {
        "id": "YDScTOhtqSLJ",
        "colab": {
          "base_uri": "https://localhost:8080/",
          "height": 34
        },
        "outputId": "c69262ba-fc28-49be-ff9b-bb942bc6f45d"
      },
      "source": [
        "import os\n",
        "import zipfile\n",
        "# !pip install --upgrade tensorflow\n",
        "# !pip install tensorflow-gpu\n",
        "import tensorflow as tf\n",
        "import tensorflow.keras as keras\n",
        "from tensorflow.keras.layers import Input, Dense, Conv2D, MaxPool2D, Flatten, Embedding, LSTM, Bidirectional\n",
        "from tensorflow.keras.preprocessing.image import ImageDataGenerator\n",
        "import tensorflow_datasets as tfds\n",
        "from tensorflow import data as data\n",
        "import numpy as np\n",
        "print(tf.__version__)"
      ],
      "execution_count": null,
      "outputs": [
        {
          "output_type": "stream",
          "text": [
            "2.1.0\n"
          ],
          "name": "stdout"
        }
      ]
    },
    {
      "cell_type": "code",
      "metadata": {
        "id": "CaAOnsQ1GW3-",
        "colab": {
          "base_uri": "https://localhost:8080/",
          "height": 52
        },
        "collapsed": true,
        "outputId": "6e08364a-3bc3-44d0-b043-259994db5b72"
      },
      "source": [
        "path_to_file = keras.utils.get_file('shakespear.txt', 'https://storage.googleapis.com/download.tensorflow.org/data/shakespeare.txt')"
      ],
      "execution_count": null,
      "outputs": [
        {
          "output_type": "stream",
          "text": [
            "Downloading data from https://storage.googleapis.com/download.tensorflow.org/data/shakespeare.txt\n",
            "1122304/1115394 [==============================] - 0s 0us/step\n"
          ],
          "name": "stdout"
        }
      ]
    },
    {
      "cell_type": "code",
      "metadata": {
        "id": "-dT4LnWmocT3"
      },
      "source": [
        "def gen_series():\n",
        "  i = 0\n",
        "  while True:\n",
        "    size = np.random.randint(1,10)\n",
        "    yield i, tf.random.uniform((size,), minval=0, maxval=10 ,dtype=tf.int32)\n",
        "    i += 1"
      ],
      "execution_count": null,
      "outputs": []
    },
    {
      "cell_type": "code",
      "metadata": {
        "id": "Moz0acphpXmR",
        "colab": {
          "base_uri": "https://localhost:8080/",
          "height": 104
        },
        "collapsed": true,
        "outputId": "3b182fa7-6329-42f8-b6a9-d1f193dee241"
      },
      "source": [
        "for i,val in gen_series():\n",
        "  if i == 5:\n",
        "    break\n",
        "  print(val)"
      ],
      "execution_count": null,
      "outputs": [
        {
          "output_type": "stream",
          "text": [
            "tf.Tensor([7 5 2 8 9 9 0 9], shape=(8,), dtype=int32)\n",
            "tf.Tensor([4 3], shape=(2,), dtype=int32)\n",
            "tf.Tensor([5 8 6 7 9 9 9 4 2], shape=(9,), dtype=int32)\n",
            "tf.Tensor([0 6], shape=(2,), dtype=int32)\n",
            "tf.Tensor([8 6 3 4 2 5 5], shape=(7,), dtype=int32)\n"
          ],
          "name": "stdout"
        }
      ]
    },
    {
      "cell_type": "code",
      "metadata": {
        "id": "ycjIN_SjstUQ",
        "colab": {
          "base_uri": "https://localhost:8080/",
          "height": 364
        },
        "outputId": "fbc88bab-3dd1-4d0b-a5bf-f6ae120e9f99"
      },
      "source": [
        "dataset = data.Dataset.from_generator(gen_series, (tf.int32, tf.int32), ((),(None,)))\n",
        "dataset = dataset.shuffle(100).take(20)\n",
        "for i in dataset:\n",
        "  print(i)"
      ],
      "execution_count": null,
      "outputs": [
        {
          "output_type": "stream",
          "text": [
            "(<tf.Tensor: shape=(), dtype=int32, numpy=75>, <tf.Tensor: shape=(4,), dtype=int32, numpy=array([3, 5, 8, 1], dtype=int32)>)\n",
            "(<tf.Tensor: shape=(), dtype=int32, numpy=92>, <tf.Tensor: shape=(2,), dtype=int32, numpy=array([5, 1], dtype=int32)>)\n",
            "(<tf.Tensor: shape=(), dtype=int32, numpy=10>, <tf.Tensor: shape=(6,), dtype=int32, numpy=array([1, 2, 8, 0, 7, 5], dtype=int32)>)\n",
            "(<tf.Tensor: shape=(), dtype=int32, numpy=57>, <tf.Tensor: shape=(4,), dtype=int32, numpy=array([7, 7, 4, 3], dtype=int32)>)\n",
            "(<tf.Tensor: shape=(), dtype=int32, numpy=60>, <tf.Tensor: shape=(4,), dtype=int32, numpy=array([4, 8, 0, 4], dtype=int32)>)\n",
            "(<tf.Tensor: shape=(), dtype=int32, numpy=36>, <tf.Tensor: shape=(2,), dtype=int32, numpy=array([6, 3], dtype=int32)>)\n",
            "(<tf.Tensor: shape=(), dtype=int32, numpy=41>, <tf.Tensor: shape=(6,), dtype=int32, numpy=array([1, 2, 0, 2, 4, 7], dtype=int32)>)\n",
            "(<tf.Tensor: shape=(), dtype=int32, numpy=12>, <tf.Tensor: shape=(5,), dtype=int32, numpy=array([3, 8, 8, 6, 7], dtype=int32)>)\n",
            "(<tf.Tensor: shape=(), dtype=int32, numpy=87>, <tf.Tensor: shape=(9,), dtype=int32, numpy=array([5, 3, 8, 2, 5, 6, 1, 2, 3], dtype=int32)>)\n",
            "(<tf.Tensor: shape=(), dtype=int32, numpy=84>, <tf.Tensor: shape=(4,), dtype=int32, numpy=array([7, 8, 6, 2], dtype=int32)>)\n",
            "(<tf.Tensor: shape=(), dtype=int32, numpy=74>, <tf.Tensor: shape=(6,), dtype=int32, numpy=array([2, 3, 2, 1, 6, 8], dtype=int32)>)\n",
            "(<tf.Tensor: shape=(), dtype=int32, numpy=109>, <tf.Tensor: shape=(4,), dtype=int32, numpy=array([5, 6, 3, 8], dtype=int32)>)\n",
            "(<tf.Tensor: shape=(), dtype=int32, numpy=38>, <tf.Tensor: shape=(8,), dtype=int32, numpy=array([3, 9, 3, 3, 3, 9, 1, 2], dtype=int32)>)\n",
            "(<tf.Tensor: shape=(), dtype=int32, numpy=78>, <tf.Tensor: shape=(5,), dtype=int32, numpy=array([1, 2, 9, 7, 9], dtype=int32)>)\n",
            "(<tf.Tensor: shape=(), dtype=int32, numpy=94>, <tf.Tensor: shape=(7,), dtype=int32, numpy=array([2, 9, 3, 0, 4, 2, 9], dtype=int32)>)\n",
            "(<tf.Tensor: shape=(), dtype=int32, numpy=22>, <tf.Tensor: shape=(8,), dtype=int32, numpy=array([9, 0, 0, 1, 3, 2, 5, 1], dtype=int32)>)\n",
            "(<tf.Tensor: shape=(), dtype=int32, numpy=6>, <tf.Tensor: shape=(3,), dtype=int32, numpy=array([2, 8, 4], dtype=int32)>)\n",
            "(<tf.Tensor: shape=(), dtype=int32, numpy=11>, <tf.Tensor: shape=(7,), dtype=int32, numpy=array([7, 8, 5, 7, 4, 8, 6], dtype=int32)>)\n",
            "(<tf.Tensor: shape=(), dtype=int32, numpy=99>, <tf.Tensor: shape=(1,), dtype=int32, numpy=array([5], dtype=int32)>)\n",
            "(<tf.Tensor: shape=(), dtype=int32, numpy=13>, <tf.Tensor: shape=(1,), dtype=int32, numpy=array([0], dtype=int32)>)\n"
          ],
          "name": "stdout"
        }
      ]
    },
    {
      "cell_type": "code",
      "metadata": {
        "id": "aTkWSeY8WP-l",
        "colab": {
          "base_uri": "https://localhost:8080/",
          "height": 34
        },
        "outputId": "e405f1c0-0c12-465d-e9fa-2dd44f6694c3"
      },
      "source": [
        "dataset = data.Dataset.from_tensor_slices([1,2,3,4,5,6,7,8])\n",
        "# dataset.take(3).reduce(0, lambda v,x: v+x)\n"
      ],
      "execution_count": null,
      "outputs": [
        {
          "output_type": "execute_result",
          "data": {
            "text/plain": [
              "<TensorSliceDataset shapes: (), types: tf.int32>"
            ]
          },
          "metadata": {
            "tags": []
          },
          "execution_count": 82
        }
      ]
    },
    {
      "cell_type": "code",
      "metadata": {
        "id": "ea7b99IeGmeK",
        "colab": {
          "base_uri": "https://localhost:8080/",
          "height": 34
        },
        "outputId": "2adeb978-870f-4938-e954-3735dca32f84"
      },
      "source": [
        "train_dataset , test_dataset = dataset['train'], dataset['test']\n",
        "print(train_dataset.element_spec)"
      ],
      "execution_count": null,
      "outputs": [
        {
          "output_type": "stream",
          "text": [
            "(TensorSpec(shape=(None,), dtype=tf.int64, name=None), TensorSpec(shape=(), dtype=tf.int64, name=None))\n"
          ],
          "name": "stdout"
        }
      ]
    },
    {
      "cell_type": "code",
      "metadata": {
        "id": "rBrbHjNrH8hx"
      },
      "source": [
        "def printExamples(ds, numbers=2):\n",
        "  for x, y in ds.take(numbers):\n",
        "    print(x[0].shape)\n",
        "    print(x[1].shape)"
      ],
      "execution_count": null,
      "outputs": []
    },
    {
      "cell_type": "code",
      "metadata": {
        "id": "WsohOT01qg4q",
        "colab": {
          "base_uri": "https://localhost:8080/",
          "height": 34
        },
        "outputId": "889cd4b7-64ee-42fc-e8dd-a026a7037a47"
      },
      "source": [
        "encoder = info.features['text'].encoder\n",
        "print(encoder)"
      ],
      "execution_count": null,
      "outputs": [
        {
          "output_type": "stream",
          "text": [
            "<SubwordTextEncoder vocab_size=8185>\n"
          ],
          "name": "stdout"
        }
      ]
    },
    {
      "cell_type": "code",
      "metadata": {
        "id": "B8qHecwTG_5x"
      },
      "source": [
        "BUFFER = 10000\n",
        "BATCH = 64"
      ],
      "execution_count": null,
      "outputs": []
    },
    {
      "cell_type": "code",
      "metadata": {
        "id": "dHb0PTCEHGFI"
      },
      "source": [
        "ps = ((None,), ())\n",
        "train_ds = train_dataset.shuffle(BUFFER).padded_batch(BATCH, ps)\n",
        "test_ds = test_dataset.padded_batch(BATCH, ps)"
      ],
      "execution_count": null,
      "outputs": []
    },
    {
      "cell_type": "code",
      "metadata": {
        "id": "BOJey8MnLmcG",
        "colab": {
          "base_uri": "https://localhost:8080/",
          "height": 86
        },
        "collapsed": true,
        "outputId": "a68bdef3-1cb7-4553-9b98-18357af3a912"
      },
      "source": [
        "printExamples(train_ds)"
      ],
      "execution_count": null,
      "outputs": [
        {
          "output_type": "stream",
          "text": [
            "(1230,)\n",
            "(1230,)\n",
            "(848,)\n",
            "(848,)\n"
          ],
          "name": "stdout"
        }
      ]
    },
    {
      "cell_type": "code",
      "metadata": {
        "id": "qiK-nbL8nvoe"
      },
      "source": [
        "E_DIM = 64\n",
        "inputs = Input( (None,) )\n",
        "embedding = Embedding(encoder.vocab_size, E_DIM)(inputs)\n",
        "rnn1 = Bidirectional(LSTM(E_DIM))(embedding)\n",
        "dense1 = Dense(E_DIM, activation='relu')(rnn1)\n",
        "preds = Dense(1, activation='sigmoid')(dense1)"
      ],
      "execution_count": null,
      "outputs": []
    },
    {
      "cell_type": "code",
      "metadata": {
        "id": "t7n60NY6PyCv",
        "colab": {
          "base_uri": "https://localhost:8080/",
          "height": 347
        },
        "outputId": "f9ec1899-f149-4cd4-cb31-4842e04aca2c"
      },
      "source": [
        "model = keras.models.Model(inputs, preds)\n",
        "model.compile(optimizer='adam', loss='binary_crossentropy', metrics=['accuracy'])\n",
        "print(model.summary())"
      ],
      "execution_count": null,
      "outputs": [
        {
          "output_type": "stream",
          "text": [
            "Model: \"model_2\"\n",
            "_________________________________________________________________\n",
            "Layer (type)                 Output Shape              Param #   \n",
            "=================================================================\n",
            "input_4 (InputLayer)         [(None, None)]            0         \n",
            "_________________________________________________________________\n",
            "embedding_1 (Embedding)      (None, None, 64)          523840    \n",
            "_________________________________________________________________\n",
            "bidirectional_1 (Bidirection (None, 128)               66048     \n",
            "_________________________________________________________________\n",
            "dense_2 (Dense)              (None, 64)                8256      \n",
            "_________________________________________________________________\n",
            "dense_3 (Dense)              (None, 1)                 65        \n",
            "=================================================================\n",
            "Total params: 598,209\n",
            "Trainable params: 598,209\n",
            "Non-trainable params: 0\n",
            "_________________________________________________________________\n",
            "None\n"
          ],
          "name": "stdout"
        }
      ]
    },
    {
      "cell_type": "code",
      "metadata": {
        "id": "oIKMZgt0QQS8",
        "colab": {
          "base_uri": "https://localhost:8080/",
          "height": 382
        },
        "outputId": "a9dbade7-79b8-49c5-8b31-a75ebee19dad"
      },
      "source": [
        "model.fit(train_ds, epochs=10, validation_data=test_ds, validation_steps=30)"
      ],
      "execution_count": null,
      "outputs": [
        {
          "output_type": "stream",
          "text": [
            "Epoch 1/10\n",
            "391/391 [==============================] - 49s 126ms/step - loss: 0.3517 - accuracy: 0.8596 - val_loss: 0.4557 - val_accuracy: 0.8021\n",
            "Epoch 2/10\n",
            "391/391 [==============================] - 47s 121ms/step - loss: 0.2746 - accuracy: 0.8960 - val_loss: 0.3783 - val_accuracy: 0.8422\n",
            "Epoch 3/10\n",
            "391/391 [==============================] - 47s 121ms/step - loss: 0.2642 - accuracy: 0.8972 - val_loss: 0.4315 - val_accuracy: 0.8427\n",
            "Epoch 4/10\n",
            "391/391 [==============================] - 47s 121ms/step - loss: 0.2935 - accuracy: 0.8797 - val_loss: 0.5159 - val_accuracy: 0.7521\n",
            "Epoch 5/10\n",
            "391/391 [==============================] - 47s 121ms/step - loss: 0.2111 - accuracy: 0.9207 - val_loss: 0.4280 - val_accuracy: 0.8438\n",
            "Epoch 6/10\n",
            "391/391 [==============================] - 47s 121ms/step - loss: 0.1664 - accuracy: 0.9401 - val_loss: 0.5676 - val_accuracy: 0.7714\n",
            "Epoch 7/10\n",
            "391/391 [==============================] - 48s 123ms/step - loss: 0.1960 - accuracy: 0.9272 - val_loss: 0.5133 - val_accuracy: 0.8193\n",
            "Epoch 8/10\n",
            "391/391 [==============================] - 48s 123ms/step - loss: 0.1125 - accuracy: 0.9622 - val_loss: 0.6303 - val_accuracy: 0.8266\n",
            "Epoch 9/10\n",
            "391/391 [==============================] - 48s 123ms/step - loss: 0.1099 - accuracy: 0.9626 - val_loss: 0.5665 - val_accuracy: 0.8161\n",
            "Epoch 10/10\n",
            "391/391 [==============================] - 48s 124ms/step - loss: 0.0862 - accuracy: 0.9721 - val_loss: 0.7513 - val_accuracy: 0.7953\n"
          ],
          "name": "stdout"
        },
        {
          "output_type": "execute_result",
          "data": {
            "text/plain": [
              "<tensorflow.python.keras.callbacks.History at 0x7eff9d907a20>"
            ]
          },
          "metadata": {
            "tags": []
          },
          "execution_count": 71
        }
      ]
    },
    {
      "cell_type": "code",
      "metadata": {
        "id": "qxhwN63ay5Y9",
        "colab": {
          "base_uri": "https://localhost:8080/",
          "height": 106
        },
        "collapsed": true,
        "outputId": "bae71cba-ddc0-4c50-85ed-127f3ed8ea61"
      },
      "source": [
        "dmodel.save('/content/drive/My Drive/ml/trained models/horse-or-human')"
      ],
      "execution_count": null,
      "outputs": [
        {
          "output_type": "stream",
          "text": [
            "WARNING:tensorflow:From /usr/local/lib/python3.6/dist-packages/tensorflow_core/python/ops/resource_variable_ops.py:1781: calling BaseResourceVariable.__init__ (from tensorflow.python.ops.resource_variable_ops) with constraint is deprecated and will be removed in a future version.\n",
            "Instructions for updating:\n",
            "If using Keras pass *_constraint arguments to layers.\n",
            "INFO:tensorflow:Assets written to: /content/drive/My Drive/ml/trained models/horse-or-human/assets\n"
          ],
          "name": "stdout"
        }
      ]
    }
  ]
}