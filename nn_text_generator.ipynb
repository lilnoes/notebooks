{
  "nbformat": 4,
  "nbformat_minor": 0,
  "metadata": {
    "colab": {
      "name": "Untitled0.ipynb",
      "provenance": [],
      "authorship_tag": "ABX9TyNQaycs/AxLC+fL8AXFoI+S",
      "include_colab_link": true
    },
    "kernelspec": {
      "name": "python3",
      "display_name": "Python 3"
    },
    "accelerator": "GPU"
  },
  "cells": [
    {
      "cell_type": "markdown",
      "metadata": {
        "id": "view-in-github",
        "colab_type": "text"
      },
      "source": [
        "<a href=\"https://colab.research.google.com/github/lilnoes/notebooks/blob/main/nn_text_generator.ipynb\" target=\"_parent\"><img src=\"https://colab.research.google.com/assets/colab-badge.svg\" alt=\"Open In Colab\"/></a>"
      ]
    },
    {
      "cell_type": "code",
      "metadata": {
        "id": "uvotHOqSQsMh",
        "colab": {
          "base_uri": "https://localhost:8080/",
          "height": 34
        },
        "outputId": "b24f20ad-5bf6-47de-e418-620835dadac6"
      },
      "source": [
        "import os\n",
        "import zipfile\n",
        "# !pip install --upgrade tensorflow\n",
        "# !pip install tensorflow-gpu\n",
        "import tensorflow as tf\n",
        "import tensorflow.keras as keras\n",
        "from tensorflow.keras.layers import Input, Dense, Conv2D, MaxPool2D, Flatten, Embedding, LSTM, Bidirectional, GRU\n",
        "from tensorflow.keras.preprocessing.image import ImageDataGenerator\n",
        "import tensorflow_datasets as tfds\n",
        "import numpy as np\n",
        "import os\n",
        "print(tf.__version__)"
      ],
      "execution_count": null,
      "outputs": [
        {
          "output_type": "stream",
          "text": [
            "2.1.0\n"
          ],
          "name": "stdout"
        }
      ]
    },
    {
      "cell_type": "code",
      "metadata": {
        "id": "ZXMJHsdD3Hnn"
      },
      "source": [
        ""
      ],
      "execution_count": null,
      "outputs": []
    },
    {
      "cell_type": "code",
      "metadata": {
        "id": "KkfNYPHunirt"
      },
      "source": [
        "link = 'https://storage.googleapis.com/download.tensorflow.org/data/shakespeare.txt'"
      ],
      "execution_count": null,
      "outputs": []
    },
    {
      "cell_type": "code",
      "metadata": {
        "id": "tbexihOXSIWU",
        "colab": {
          "base_uri": "https://localhost:8080/",
          "height": 51
        },
        "outputId": "491e34d8-2732-4897-9a79-307d3a36e534"
      },
      "source": [
        "path = keras.utils.get_file('shakespeare.txt', link)"
      ],
      "execution_count": null,
      "outputs": [
        {
          "output_type": "stream",
          "text": [
            "Downloading data from https://storage.googleapis.com/download.tensorflow.org/data/shakespeare.txt\n",
            "1122304/1115394 [==============================] - 0s 0us/step\n"
          ],
          "name": "stdout"
        }
      ]
    },
    {
      "cell_type": "code",
      "metadata": {
        "id": "8VtubgjZoOZW"
      },
      "source": [
        "dataset = tf.data.TextLineDataset(path)"
      ],
      "execution_count": null,
      "outputs": []
    },
    {
      "cell_type": "code",
      "metadata": {
        "id": "4e0trZimocLz"
      },
      "source": [
        "a = set()\n",
        "for i in dataset.cache():\n",
        "  a.update(list(i.numpy().decode()))\n",
        "# a = set()\n",
        "# dataset.take(3).reduce('0', lambda s,x:s+x)\n",
        "uniqs = a"
      ],
      "execution_count": null,
      "outputs": []
    },
    {
      "cell_type": "code",
      "metadata": {
        "id": "EXlVjXWYr0Be",
        "colab": {
          "base_uri": "https://localhost:8080/",
          "height": 34
        },
        "outputId": "88d94013-d245-4301-e770-4b846053ff11"
      },
      "source": [
        "vocab = a\n",
        "len(vocab)"
      ],
      "execution_count": null,
      "outputs": [
        {
          "output_type": "execute_result",
          "data": {
            "text/plain": [
              "64"
            ]
          },
          "metadata": {
            "tags": []
          },
          "execution_count": 24
        }
      ]
    },
    {
      "cell_type": "code",
      "metadata": {
        "id": "nmXoYOYSsy11"
      },
      "source": [
        "char2idx = {i:u for u,i in enumerate(vocab)}\n",
        "idx2char = np.array(list(vocab))"
      ],
      "execution_count": null,
      "outputs": []
    },
    {
      "cell_type": "code",
      "metadata": {
        "id": "kjeEiOSus9Dz",
        "collapsed": true,
        "colab": {
          "base_uri": "https://localhost:8080/",
          "height": 34
        },
        "outputId": "fcedd89e-958c-4f60-992c-34227e2f20bf"
      },
      "source": [
        "char2idx['F'],idx2char[24]"
      ],
      "execution_count": null,
      "outputs": [
        {
          "output_type": "execute_result",
          "data": {
            "text/plain": [
              "(24, 'F')"
            ]
          },
          "metadata": {
            "tags": []
          },
          "execution_count": 161
        }
      ]
    },
    {
      "cell_type": "code",
      "metadata": {
        "id": "F1dqoHydtcaf"
      },
      "source": [
        "encoded_ds = tf.data.Dataset.from_generator(gen, tf.int64, ())\n",
        "train_ds = encoded_ds.batch(100,True).map(lambda x: (x[:-1], x[1:]))"
      ],
      "execution_count": null,
      "outputs": []
    },
    {
      "cell_type": "code",
      "metadata": {
        "id": "32lWMF3AdA6d",
        "colab": {
          "base_uri": "https://localhost:8080/",
          "height": 34
        },
        "outputId": "a3223649-c69d-4207-c1cc-dc5981c955e6"
      },
      "source": [
        "train_ds"
      ],
      "execution_count": null,
      "outputs": [
        {
          "output_type": "execute_result",
          "data": {
            "text/plain": [
              "<MapDataset shapes: ((99,), (99,)), types: (tf.int64, tf.int64)>"
            ]
          },
          "metadata": {
            "tags": []
          },
          "execution_count": 249
        }
      ]
    },
    {
      "cell_type": "code",
      "metadata": {
        "id": "08mzlaWxPCJL"
      },
      "source": [
        "train_data = train_ds.shuffle(10000).batch(64, True)\n",
        "train_data = train_data.cache()"
      ],
      "execution_count": null,
      "outputs": []
    },
    {
      "cell_type": "code",
      "metadata": {
        "id": "Hf_dgpTIfqTz"
      },
      "source": [
        "train_data = train_data.cache()\n",
        "for i in train_data:\n",
        "  pass"
      ],
      "execution_count": null,
      "outputs": []
    },
    {
      "cell_type": "code",
      "metadata": {
        "id": "om7uVcxpWjVy"
      },
      "source": [
        "for i in train_data.cache():\n",
        "  pass"
      ],
      "execution_count": null,
      "outputs": []
    },
    {
      "cell_type": "code",
      "metadata": {
        "id": "IIMjtlhZUOiZ",
        "collapsed": true,
        "colab": {
          "base_uri": "https://localhost:8080/",
          "height": 34
        },
        "outputId": "cf7de332-3b1c-45ee-db34-278da743f8e3"
      },
      "source": [
        "# for x,y in train_data.cache().take(1):\n",
        "#   print(model(x))\n",
        "train_data"
      ],
      "execution_count": null,
      "outputs": [
        {
          "output_type": "execute_result",
          "data": {
            "text/plain": [
              "<BatchDataset shapes: (<unknown>, <unknown>), types: (tf.int64, tf.int64)>"
            ]
          },
          "metadata": {
            "tags": []
          },
          "execution_count": 244
        }
      ]
    },
    {
      "cell_type": "code",
      "metadata": {
        "id": "-T2qOiZlbHgQ",
        "colab": {
          "base_uri": "https://localhost:8080/",
          "height": 289
        },
        "outputId": "8e29e447-27f5-4566-a2b1-272182f66365"
      },
      "source": [
        "vocab_size = len(vocab)\n",
        "e_dim = 256\n",
        "rnn_units = 1024\n",
        "batch_size = 64\n",
        "model = get_model(vocab_size, e_dim, rnn_units, batch_size)\n",
        "model.compile(optimizer='adam', loss=loss)\n",
        "model.summary()"
      ],
      "execution_count": null,
      "outputs": [
        {
          "output_type": "stream",
          "text": [
            "Model: \"model_29\"\n",
            "_________________________________________________________________\n",
            "Layer (type)                 Output Shape              Param #   \n",
            "=================================================================\n",
            "input_40 (InputLayer)        [(64, None)]              0         \n",
            "_________________________________________________________________\n",
            "embedding_43 (Embedding)     (64, None, 256)           16384     \n",
            "_________________________________________________________________\n",
            "gru_33 (GRU)                 (64, None, 1024)          3938304   \n",
            "_________________________________________________________________\n",
            "dense_64 (Dense)             (64, None, 64)            65600     \n",
            "=================================================================\n",
            "Total params: 4,020,288\n",
            "Trainable params: 4,020,288\n",
            "Non-trainable params: 0\n",
            "_________________________________________________________________\n"
          ],
          "name": "stdout"
        }
      ]
    },
    {
      "cell_type": "code",
      "metadata": {
        "id": "N0knc8mtccQE",
        "colab": {
          "base_uri": "https://localhost:8080/",
          "height": 374
        },
        "outputId": "9456b71c-6880-431b-8258-b42a01f817c3"
      },
      "source": [
        "model.fit(train_data, epochs=10, callbacks=[ckpt_callback])"
      ],
      "execution_count": null,
      "outputs": [
        {
          "output_type": "stream",
          "text": [
            "Epoch 1/10\n",
            "168/168 [==============================] - 7s 45ms/step - loss: 1.2300\n",
            "Epoch 2/10\n",
            "168/168 [==============================] - 7s 43ms/step - loss: 1.1831\n",
            "Epoch 3/10\n",
            "168/168 [==============================] - 7s 43ms/step - loss: 1.1338\n",
            "Epoch 4/10\n",
            "168/168 [==============================] - 7s 43ms/step - loss: 1.0846\n",
            "Epoch 5/10\n",
            "168/168 [==============================] - 7s 43ms/step - loss: 1.0432\n",
            "Epoch 6/10\n",
            "168/168 [==============================] - 7s 43ms/step - loss: 1.0233\n",
            "Epoch 7/10\n",
            "168/168 [==============================] - 7s 43ms/step - loss: 1.0022\n",
            "Epoch 8/10\n",
            "168/168 [==============================] - 7s 43ms/step - loss: 0.9744\n",
            "Epoch 9/10\n",
            "168/168 [==============================] - 7s 43ms/step - loss: 0.9497\n",
            "Epoch 10/10\n",
            "168/168 [==============================] - 7s 43ms/step - loss: 0.9348\n"
          ],
          "name": "stdout"
        },
        {
          "output_type": "execute_result",
          "data": {
            "text/plain": [
              "<tensorflow.python.keras.callbacks.History at 0x7f697709cef0>"
            ]
          },
          "metadata": {
            "tags": []
          },
          "execution_count": 399
        }
      ]
    },
    {
      "cell_type": "code",
      "metadata": {
        "id": "V1easbeW0vHm"
      },
      "source": [
        "def gen():\n",
        "  for i in dataset:\n",
        "    for c in list(i.numpy().decode()):\n",
        "      yield char2idx[c]"
      ],
      "execution_count": null,
      "outputs": []
    },
    {
      "cell_type": "code",
      "metadata": {
        "id": "RzWfQ5MFMr1C"
      },
      "source": [
        "def split_input(x):\n",
        "  return x[:-1], x[1:]\n",
        "def decode_sent(x):\n",
        "  return ''.join(idx2char [list(x.numpy())])"
      ],
      "execution_count": null,
      "outputs": []
    },
    {
      "cell_type": "code",
      "metadata": {
        "id": "eqbCj0apbxat"
      },
      "source": [
        "def loss(labels, preds):\n",
        "  return keras.losses.sparse_categorical_crossentropy(labels, preds, True)"
      ],
      "execution_count": null,
      "outputs": []
    },
    {
      "cell_type": "code",
      "metadata": {
        "id": "M2XABJjOyIkW"
      },
      "source": [
        "ckpt = './training_checkpoints'\n",
        "prefix = os.path.join(ckpt, 'ckpt_{epoch}')\n",
        "ckpt_callback = keras.callbacks.ModelCheckpoint(prefix, save_weights_only=True)"
      ],
      "execution_count": null,
      "outputs": []
    },
    {
      "cell_type": "code",
      "metadata": {
        "id": "IugkoSiYzI2S"
      },
      "source": [
        "def get_model(vocab_size, e_dim, rnn_units, batch_size):\n",
        "\n",
        "  inputs = Input(batch_shape=(batch_size,None))\n",
        "  embedding = Embedding(vocab_size, e_dim)(inputs)\n",
        "  rnn = GRU(rnn_units, stateful=True, return_sequences=True)(embedding)\n",
        "  # rnn1 = GRU(rnn_units, stateful=True, return_sequences=True)(rnn)\n",
        "  # dense1 = Dense(512, activation='relu')(rnn1)\n",
        "  # dense2 = Dense(256, activation='relu')(dense1)\n",
        "  preds = Dense(vocab_size)(rnn)\n",
        "  model = keras.models.Model(inputs, preds)\n",
        "  return model"
      ],
      "execution_count": null,
      "outputs": []
    },
    {
      "cell_type": "code",
      "metadata": {
        "id": "yr5ZYMDu0orS",
        "colab": {
          "base_uri": "https://localhost:8080/",
          "height": 34
        },
        "outputId": "e1842844-1ac4-4a84-b093-923b4d964e39"
      },
      "source": [
        "model_pred = get_model(vocab_size, e_dim, rnn_units, 1)\n",
        "model_pred.load_weights(tf.train.latest_checkpoint(ckpt))"
      ],
      "execution_count": null,
      "outputs": [
        {
          "output_type": "execute_result",
          "data": {
            "text/plain": [
              "<tensorflow.python.training.tracking.util.CheckpointLoadStatus at 0x7f69767d1780>"
            ]
          },
          "metadata": {
            "tags": []
          },
          "execution_count": 400
        }
      ]
    },
    {
      "cell_type": "code",
      "metadata": {
        "id": "zudUc9ZU1Vue",
        "colab": {
          "base_uri": "https://localhost:8080/",
          "height": 54
        },
        "outputId": "ef68485e-ba98-4421-c9e0-ceded07255ea"
      },
      "source": [
        "pred_text(model_pred, \"ROMEO:\", 100)"
      ],
      "execution_count": null,
      "outputs": [
        {
          "output_type": "execute_result",
          "data": {
            "text/plain": [
              "'ROMEO:Hais grant; you have left upon God for it:And, after, my groancidUEEE:Ay, and If thou do mischance!W'"
            ]
          },
          "metadata": {
            "tags": []
          },
          "execution_count": 406
        }
      ]
    },
    {
      "cell_type": "code",
      "metadata": {
        "id": "g3OGjKnk7_Rn"
      },
      "source": [
        "def pred_text(model, s, num=1000):\n",
        "  input_eval = [char2idx[i] for i in s]\n",
        "  input_eval = tf.expand_dims(input_eval, 0)\n",
        "  text_generated = []\n",
        "  temperature = 1.0\n",
        "\n",
        "  model.reset_states()\n",
        "  for i in range(num):\n",
        "    pred = model(input_eval)\n",
        "    pred = tf.squeeze(pred, 0) / temperature\n",
        "    pred_id = tf.random.categorical(pred, 1)[-1,0].numpy()\n",
        "\n",
        "    input_eval = tf.expand_dims([pred_id], 0)\n",
        "    # input_eval = tf.concat([input_eval, input_eval1], 1)\n",
        "    text_generated.append(idx2char[pred_id])\n",
        "\n",
        "  return s + ''.join(text_generated)\n"
      ],
      "execution_count": null,
      "outputs": []
    },
    {
      "cell_type": "code",
      "metadata": {
        "id": "C42mg_KT9fpS",
        "colab": {
          "base_uri": "https://localhost:8080/",
          "height": 54
        },
        "outputId": "306dfd6f-b900-4eb2-cc03-4fa9014088ec"
      },
      "source": [
        "pred_text(model_pred, 'Romeo', 100)"
      ],
      "execution_count": null,
      "outputs": [
        {
          "output_type": "execute_result",
          "data": {
            "text/plain": [
              "\"RomeouNyNys.ggegususesA A'?Rgh iqgmiyUS:S:S:an O OBOBOBOBOBOfLf ffbwlwlgpd uWfwL Ldsdh's:t:Z.Fror;To:D:D:\""
            ]
          },
          "metadata": {
            "tags": []
          },
          "execution_count": 300
        }
      ]
    },
    {
      "cell_type": "code",
      "metadata": {
        "id": "nOoEpPH-JO6U",
        "colab": {
          "base_uri": "https://localhost:8080/",
          "height": 34
        },
        "outputId": "b0110c82-8dc5-4544-e73c-09ccf947b765"
      },
      "source": [
        "a = [1,2]\n",
        "b = tf.expand_dims(a, 0)\n",
        "b1 = tf.expand_dims([3], 0)\n",
        "tf.concat([b,b1],1)"
      ],
      "execution_count": null,
      "outputs": [
        {
          "output_type": "execute_result",
          "data": {
            "text/plain": [
              "<tf.Tensor: shape=(1, 3), dtype=int32, numpy=array([[1, 2, 3]], dtype=int32)>"
            ]
          },
          "metadata": {
            "tags": []
          },
          "execution_count": 378
        }
      ]
    }
  ]
}