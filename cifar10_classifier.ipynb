{
  "nbformat": 4,
  "nbformat_minor": 0,
  "metadata": {
    "colab": {
      "name": "Untitled1.ipynb",
      "provenance": [],
      "authorship_tag": "ABX9TyPFILPMlu2FRjCOcLaYmCoA",
      "include_colab_link": true
    },
    "kernelspec": {
      "name": "python3",
      "display_name": "Python 3"
    }
  },
  "cells": [
    {
      "cell_type": "markdown",
      "metadata": {
        "id": "view-in-github",
        "colab_type": "text"
      },
      "source": [
        "<a href=\"https://colab.research.google.com/github/lilnoes/notebooks/blob/main/cifar10_classifier.ipynb\" target=\"_parent\"><img src=\"https://colab.research.google.com/assets/colab-badge.svg\" alt=\"Open In Colab\"/></a>"
      ]
    },
    {
      "cell_type": "code",
      "metadata": {
        "id": "gcBZ8fIutP-9"
      },
      "source": [
        "import torch\n",
        "import torch.nn.functional as F\n",
        "import torch.nn as nn\n",
        "import torchvision\n",
        "import torchvision.transforms as transforms\n",
        "import torch.optim as optim"
      ],
      "execution_count": null,
      "outputs": []
    },
    {
      "cell_type": "code",
      "metadata": {
        "id": "wmnjbam_Xzvz"
      },
      "source": [
        "transform = transforms.Compose([transforms.ToTensor(), transforms.Normalize((0.5, 0.5, 0.5), (0.5, 0.5, 0.5))])"
      ],
      "execution_count": null,
      "outputs": []
    },
    {
      "cell_type": "code",
      "metadata": {
        "id": "Lqx3o51-YKdq"
      },
      "source": [
        "root = \"./data\""
      ],
      "execution_count": null,
      "outputs": []
    },
    {
      "cell_type": "code",
      "metadata": {
        "id": "kG_9HeNdYCVw",
        "colab": {
          "base_uri": "https://localhost:8080/",
          "height": 34
        },
        "outputId": "4bb04192-9980-4c98-b842-01fb1b3ce482"
      },
      "source": [
        "trainset = torchvision.datasets.CIFAR10(root, transform=transform, train=True, download=True)\n",
        "trainloader = torch.utils.data.DataLoader(trainset, batch_size=4, shuffle=True)"
      ],
      "execution_count": null,
      "outputs": [
        {
          "output_type": "stream",
          "text": [
            "Files already downloaded and verified\n"
          ],
          "name": "stdout"
        }
      ]
    },
    {
      "cell_type": "code",
      "metadata": {
        "id": "WlGtBdoudmjk",
        "colab": {
          "base_uri": "https://localhost:8080/",
          "height": 34
        },
        "outputId": "2fe48362-b875-4e61-abd2-7d0966777d4b"
      },
      "source": [
        "testset = torchvision.datasets.CIFAR10(root, transform=transform, train=False, download=True)\n",
        "testloader = torch.utils.data.DataLoader(testset, batch_size=4, shuffle=False)"
      ],
      "execution_count": null,
      "outputs": [
        {
          "output_type": "stream",
          "text": [
            "Files already downloaded and verified\n"
          ],
          "name": "stdout"
        }
      ]
    },
    {
      "cell_type": "code",
      "metadata": {
        "id": "DNJOLfN7d1Yh"
      },
      "source": [
        "classes = ('plane', 'car', 'bird', 'cat','deer', 'dog', 'frog', 'horse', 'ship', 'truck')"
      ],
      "execution_count": null,
      "outputs": []
    },
    {
      "cell_type": "code",
      "metadata": {
        "id": "_zF0Ei_4dIiT",
        "colab": {
          "base_uri": "https://localhost:8080/",
          "height": 34
        },
        "outputId": "f70e5be1-e02f-4f39-af9d-dbb0301b67e0"
      },
      "source": [
        "len(testset)"
      ],
      "execution_count": null,
      "outputs": [
        {
          "output_type": "execute_result",
          "data": {
            "text/plain": [
              "10000"
            ]
          },
          "metadata": {
            "tags": []
          },
          "execution_count": 43
        }
      ]
    },
    {
      "cell_type": "code",
      "metadata": {
        "id": "m0JtJQxLteNV"
      },
      "source": [
        "class Net(nn.Module):\n",
        "  def __init__(self):\n",
        "    super(Net, self).__init__()\n",
        "    self.conv1 = nn.Conv2d(3, 6, 3)\n",
        "    self.maxPool = nn.MaxPool2d(2)\n",
        "    self.conv2 = nn.Conv2d(6, 16, 3)\n",
        "    self.fc1 = nn.Linear(16*6*6, 120)\n",
        "    self.fc2 = nn.Linear(120, 84)\n",
        "    self.fc3 = nn.Linear(84, 10)\n",
        "    self.flatten = nn.Flatten()\n",
        "\n",
        "  def forward(self, x):\n",
        "    x = self.maxPool( F.relu( self.conv1(x) ) )\n",
        "    x = self.maxPool( F.relu( self.conv2(x) ) )\n",
        "    x = F.relu(self.fc1(self.flatten(x)))\n",
        "    x = F.relu(self.fc2(x))\n",
        "    return self.fc3(x)"
      ],
      "execution_count": null,
      "outputs": []
    },
    {
      "cell_type": "code",
      "metadata": {
        "id": "qir-W7zit_c_",
        "colab": {
          "base_uri": "https://localhost:8080/",
          "height": 170
        },
        "outputId": "a4f1cb3d-329d-4003-949f-46660c73fc90"
      },
      "source": [
        "net = Net()\n",
        "optimizer = optim.SGD(net.parameters(), lr=0.001, momentum=0.9)\n",
        "loss_fn = nn.CrossEntropyLoss()\n",
        "print(net)"
      ],
      "execution_count": null,
      "outputs": [
        {
          "output_type": "stream",
          "text": [
            "Net(\n",
            "  (conv1): Conv2d(3, 6, kernel_size=(3, 3), stride=(1, 1))\n",
            "  (maxPool): MaxPool2d(kernel_size=2, stride=2, padding=0, dilation=1, ceil_mode=False)\n",
            "  (conv2): Conv2d(6, 16, kernel_size=(3, 3), stride=(1, 1))\n",
            "  (fc1): Linear(in_features=576, out_features=120, bias=True)\n",
            "  (fc2): Linear(in_features=120, out_features=84, bias=True)\n",
            "  (fc3): Linear(in_features=84, out_features=10, bias=True)\n",
            "  (flatten): Flatten()\n",
            ")\n"
          ],
          "name": "stdout"
        }
      ]
    },
    {
      "cell_type": "code",
      "metadata": {
        "id": "t03epNjTm9wU"
      },
      "source": [
        "def train(trainset, epochs=100):\n",
        "  count = 0\n",
        "  total_loss = 0\n",
        "  for i in range(epochs):\n",
        "    for x,y in trainset:\n",
        "      count += 1\n",
        "      optimizer.zero_grad()\n",
        "      outputs = net(x)\n",
        "      loss = loss_fn(outputs, y)\n",
        "      loss.backward()\n",
        "      optimizer.step()\n",
        "      total_loss += loss.item()\n",
        "      if count % 100==0:\n",
        "        print(\"loss\", total_loss/100)\n",
        "        total_loss = 0\n"
      ],
      "execution_count": null,
      "outputs": []
    },
    {
      "cell_type": "code",
      "metadata": {
        "id": "qp1mlyIcotVF",
        "colab": {
          "base_uri": "https://localhost:8080/",
          "height": 1000
        },
        "outputId": "b24d0d18-10fe-4527-935a-df25410a50b2"
      },
      "source": [
        "train(trainloader, 2)"
      ],
      "execution_count": null,
      "outputs": [
        {
          "output_type": "stream",
          "text": [
            "loss 2.300360975265503\n",
            "loss 2.3046688199043275\n",
            "loss 2.304159369468689\n",
            "loss 2.301985573768616\n",
            "loss 2.3016284704208374\n",
            "loss 2.2999520611763002\n",
            "loss 2.300320405960083\n",
            "loss 2.2940128898620604\n",
            "loss 2.2959226822853087\n",
            "loss 2.2905197930336\n",
            "loss 2.2867996764183043\n",
            "loss 2.286868095397949\n",
            "loss 2.272099118232727\n",
            "loss 2.249306306838989\n",
            "loss 2.243687243461609\n",
            "loss 2.207968341112137\n",
            "loss 2.168323185443878\n",
            "loss 2.1725529086589814\n",
            "loss 2.095135896205902\n",
            "loss 2.078889091014862\n",
            "loss 2.0200343489646913\n",
            "loss 2.037688299417496\n",
            "loss 2.0385051119327544\n",
            "loss 2.008011512756348\n",
            "loss 1.9562596714496612\n",
            "loss 1.9931769704818725\n",
            "loss 1.9938506126403808\n",
            "loss 1.933258548974991\n",
            "loss 1.8931339836120606\n",
            "loss 1.9695345163345337\n",
            "loss 1.9842362689971924\n",
            "loss 1.956419712305069\n",
            "loss 1.8712640577554702\n",
            "loss 1.9177849739789963\n",
            "loss 1.8741403567790984\n",
            "loss 1.8624889755249023\n",
            "loss 1.8364978158473968\n",
            "loss 1.8762324607372285\n",
            "loss 1.787881543636322\n",
            "loss 1.8293533378839493\n",
            "loss 1.8128429007530213\n",
            "loss 1.852848197221756\n",
            "loss 1.8685060626268386\n",
            "loss 1.8087605583667754\n",
            "loss 1.7566557240486145\n",
            "loss 1.7485119342803954\n",
            "loss 1.8047384417057037\n",
            "loss 1.6627257907390594\n",
            "loss 1.7192277562618257\n",
            "loss 1.7106290453672408\n",
            "loss 1.7418887722492218\n",
            "loss 1.783001674413681\n",
            "loss 1.6725123292207718\n",
            "loss 1.7530218577384948\n",
            "loss 1.7534507727622985\n",
            "loss 1.674271844625473\n",
            "loss 1.6933731174468993\n",
            "loss 1.70035371363163\n",
            "loss 1.6579610741138457\n",
            "loss 1.773648408651352\n",
            "loss 1.6590949130058288\n",
            "loss 1.704346330165863\n",
            "loss 1.6307836312055588\n",
            "loss 1.6364671802520752\n",
            "loss 1.639988792538643\n",
            "loss 1.6182215625047685\n",
            "loss 1.6132721602916718\n",
            "loss 1.5875897026062011\n",
            "loss 1.6610165256261826\n",
            "loss 1.63851757645607\n",
            "loss 1.7240856826305389\n",
            "loss 1.5047001874446868\n",
            "loss 1.5971211004257202\n",
            "loss 1.576889949440956\n",
            "loss 1.6153285938501358\n",
            "loss 1.653958531022072\n",
            "loss 1.6810470342636108\n",
            "loss 1.6216928493976592\n",
            "loss 1.6099284136295318\n",
            "loss 1.634547716975212\n",
            "loss 1.600541152358055\n",
            "loss 1.5358410769701003\n",
            "loss 1.5265140771865844\n",
            "loss 1.6002064275741577\n",
            "loss 1.5702189975976943\n",
            "loss 1.5834897249937057\n",
            "loss 1.5844050532579421\n",
            "loss 1.5798159897327424\n",
            "loss 1.5770698827505112\n",
            "loss 1.582859662771225\n",
            "loss 1.5806647324562073\n",
            "loss 1.5266510367393493\n",
            "loss 1.536379434466362\n",
            "loss 1.5763386023044585\n",
            "loss 1.5891117310523988\n",
            "loss 1.5543164205551148\n",
            "loss 1.6077165353298186\n",
            "loss 1.5237199032306672\n",
            "loss 1.5640520358085632\n",
            "loss 1.5574280571937562\n",
            "loss 1.5130953884124756\n",
            "loss 1.4985141488909721\n",
            "loss 1.5169571161270141\n",
            "loss 1.486358461380005\n",
            "loss 1.5551465821266175\n",
            "loss 1.522635619044304\n",
            "loss 1.440798020362854\n",
            "loss 1.4007710844278336\n",
            "loss 1.4563656586408615\n",
            "loss 1.5124292409420013\n",
            "loss 1.462776055932045\n",
            "loss 1.4494796919822692\n",
            "loss 1.4544941672682763\n",
            "loss 1.430634271502495\n",
            "loss 1.4209616205096245\n",
            "loss 1.480566600561142\n",
            "loss 1.5481786662340165\n",
            "loss 1.4855286884307861\n",
            "loss 1.3913693317770959\n",
            "loss 1.439445093870163\n",
            "loss 1.4625399938225747\n",
            "loss 1.4505221271514892\n",
            "loss 1.5067076721787453\n",
            "loss 1.4693492066860199\n",
            "loss 1.4175911235809326\n",
            "loss 1.4792487633228302\n",
            "loss 1.3971294996142387\n",
            "loss 1.5126376444101333\n",
            "loss 1.3654850992560386\n",
            "loss 1.3572672784328461\n",
            "loss 1.4504125624895097\n",
            "loss 1.409720252454281\n",
            "loss 1.4277802190184594\n",
            "loss 1.440129560828209\n",
            "loss 1.4910986131429673\n",
            "loss 1.3165922993421555\n",
            "loss 1.4309128671884537\n",
            "loss 1.5765021896362306\n",
            "loss 1.4022319194674493\n",
            "loss 1.3257490070164204\n",
            "loss 1.4547969922423363\n",
            "loss 1.5105189007520676\n",
            "loss 1.412434133887291\n",
            "loss 1.3702430182695389\n",
            "loss 1.3613355988264084\n",
            "loss 1.3594079431891442\n",
            "loss 1.3581621439754963\n",
            "loss 1.3669646137952804\n",
            "loss 1.4493514591455459\n",
            "loss 1.4113443061709403\n",
            "loss 1.4962505620718003\n",
            "loss 1.4443284344673157\n",
            "loss 1.4207186180353164\n",
            "loss 1.4151923543214797\n",
            "loss 1.4494096127152443\n",
            "loss 1.4923454770445823\n",
            "loss 1.3558229166269302\n",
            "loss 1.3472366738319397\n",
            "loss 1.3853877893090247\n",
            "loss 1.3896835091710091\n",
            "loss 1.3969273149967194\n",
            "loss 1.4370756787061691\n",
            "loss 1.404486712217331\n",
            "loss 1.3881360962986946\n",
            "loss 1.3408531036973\n",
            "loss 1.346994164288044\n",
            "loss 1.361779103577137\n",
            "loss 1.3470043590664864\n",
            "loss 1.3738235327601434\n",
            "loss 1.3577656707167625\n",
            "loss 1.3323539720475674\n",
            "loss 1.3535133266448975\n",
            "loss 1.372639850974083\n",
            "loss 1.4005770283937453\n",
            "loss 1.3096004977822304\n",
            "loss 1.3356317082047462\n",
            "loss 1.3615129509568213\n",
            "loss 1.3198052576184274\n",
            "loss 1.3980264520645143\n",
            "loss 1.3741285061836244\n",
            "loss 1.3112058812379837\n",
            "loss 1.363774304687977\n",
            "loss 1.3590148442983627\n",
            "loss 1.3613992896676064\n",
            "loss 1.3476561346650124\n",
            "loss 1.3267019858956337\n",
            "loss 1.4141951709985734\n",
            "loss 1.238212758898735\n",
            "loss 1.313534373342991\n",
            "loss 1.289765706434846\n",
            "loss 1.3270920774340629\n",
            "loss 1.1891038668155671\n",
            "loss 1.3599139332771302\n",
            "loss 1.3984183338284493\n",
            "loss 1.3551170429587365\n",
            "loss 1.3298212474584579\n",
            "loss 1.3643341866135597\n",
            "loss 1.357692672908306\n",
            "loss 1.3837657609581948\n",
            "loss 1.3459598833322526\n",
            "loss 1.3117660757899285\n",
            "loss 1.3244909435510634\n",
            "loss 1.364472585618496\n",
            "loss 1.302072941660881\n",
            "loss 1.2410810005664825\n",
            "loss 1.4035423338413238\n",
            "loss 1.3041458660364151\n",
            "loss 1.376853542327881\n",
            "loss 1.3305212645232678\n",
            "loss 1.3092260992527007\n",
            "loss 1.3673919519782067\n",
            "loss 1.4019405619800092\n",
            "loss 1.205299596041441\n",
            "loss 1.2483767881989478\n",
            "loss 1.359019959717989\n",
            "loss 1.331004124879837\n",
            "loss 1.4060671865940093\n",
            "loss 1.2746811366081239\n",
            "loss 1.3003873793780805\n",
            "loss 1.4213820445537566\n",
            "loss 1.2332618626952172\n",
            "loss 1.2138095685839654\n",
            "loss 1.2296830061078072\n",
            "loss 1.2199744556099177\n",
            "loss 1.3645421022176742\n",
            "loss 1.315689477622509\n",
            "loss 1.1660514786839484\n",
            "loss 1.2670900367200375\n",
            "loss 1.276162628531456\n",
            "loss 1.2377279859781265\n",
            "loss 1.290177706182003\n",
            "loss 1.2521980398893355\n",
            "loss 1.279669513106346\n",
            "loss 1.297479186952114\n",
            "loss 1.3018098843097687\n",
            "loss 1.4109458595514297\n",
            "loss 1.2903656539320947\n",
            "loss 1.2993613621592521\n",
            "loss 1.3114213705062867\n",
            "loss 1.3032733488082886\n",
            "loss 1.2671095961332322\n",
            "loss 1.217840647995472\n",
            "loss 1.2697908118367196\n",
            "loss 1.225136352777481\n",
            "loss 1.3140306496620178\n",
            "loss 1.2978153443336486\n",
            "loss 1.2505627110600472\n",
            "loss 1.2086021731793881\n",
            "loss 1.3299679984152317\n",
            "loss 1.3657417607307434\n"
          ],
          "name": "stdout"
        }
      ]
    },
    {
      "cell_type": "code",
      "metadata": {
        "id": "iE3TlFgXfo9B"
      },
      "source": [
        "x, y = next(iter(trainloader))"
      ],
      "execution_count": null,
      "outputs": []
    },
    {
      "cell_type": "code",
      "metadata": {
        "id": "3b95hSnAf440",
        "colab": {
          "base_uri": "https://localhost:8080/",
          "height": 68
        },
        "outputId": "caad7d23-99c5-42df-9abc-58d8c114bc0d"
      },
      "source": [
        "print(x.shape)\n",
        "print(y.shape)\n",
        "preds = net(x)\n",
        "print(preds.shape)"
      ],
      "execution_count": null,
      "outputs": [
        {
          "output_type": "stream",
          "text": [
            "torch.Size([4, 3, 32, 32])\n",
            "torch.Size([4])\n",
            "torch.Size([4, 10])\n"
          ],
          "name": "stdout"
        }
      ]
    },
    {
      "cell_type": "code",
      "metadata": {
        "id": "gVw9NYlkf8rg",
        "colab": {
          "base_uri": "https://localhost:8080/",
          "height": 34
        },
        "outputId": "738976ea-534c-4e2c-f75e-4bf056545706"
      },
      "source": [
        "y.shape"
      ],
      "execution_count": null,
      "outputs": [
        {
          "output_type": "execute_result",
          "data": {
            "text/plain": [
              "torch.Size([4])"
            ]
          },
          "metadata": {
            "tags": []
          },
          "execution_count": 16
        }
      ]
    },
    {
      "cell_type": "code",
      "metadata": {
        "id": "Xd1tNl3WuxAF",
        "colab": {
          "base_uri": "https://localhost:8080/",
          "height": 299
        },
        "outputId": "8486b665-1e0d-4f00-e777-bc27176529df"
      },
      "source": [
        "a = nn.Flatten()\n",
        "a.shape"
      ],
      "execution_count": null,
      "outputs": [
        {
          "output_type": "error",
          "ename": "AttributeError",
          "evalue": "ignored",
          "traceback": [
            "\u001b[0;31m---------------------------------------------------------------------------\u001b[0m",
            "\u001b[0;31mAttributeError\u001b[0m                            Traceback (most recent call last)",
            "\u001b[0;32m<ipython-input-14-9221467d7e95>\u001b[0m in \u001b[0;36m<module>\u001b[0;34m()\u001b[0m\n\u001b[1;32m      1\u001b[0m \u001b[0ma\u001b[0m \u001b[0;34m=\u001b[0m \u001b[0mnn\u001b[0m\u001b[0;34m.\u001b[0m\u001b[0mFlatten\u001b[0m\u001b[0;34m(\u001b[0m\u001b[0;34m)\u001b[0m\u001b[0;34m\u001b[0m\u001b[0;34m\u001b[0m\u001b[0m\n\u001b[0;32m----> 2\u001b[0;31m \u001b[0ma\u001b[0m\u001b[0;34m.\u001b[0m\u001b[0mshape\u001b[0m\u001b[0;34m\u001b[0m\u001b[0;34m\u001b[0m\u001b[0m\n\u001b[0m",
            "\u001b[0;32m/usr/local/lib/python3.6/dist-packages/torch/nn/modules/module.py\u001b[0m in \u001b[0;36m__getattr__\u001b[0;34m(self, name)\u001b[0m\n\u001b[1;32m    592\u001b[0m                 \u001b[0;32mreturn\u001b[0m \u001b[0mmodules\u001b[0m\u001b[0;34m[\u001b[0m\u001b[0mname\u001b[0m\u001b[0;34m]\u001b[0m\u001b[0;34m\u001b[0m\u001b[0;34m\u001b[0m\u001b[0m\n\u001b[1;32m    593\u001b[0m         raise AttributeError(\"'{}' object has no attribute '{}'\".format(\n\u001b[0;32m--> 594\u001b[0;31m             type(self).__name__, name))\n\u001b[0m\u001b[1;32m    595\u001b[0m \u001b[0;34m\u001b[0m\u001b[0m\n\u001b[1;32m    596\u001b[0m     \u001b[0;32mdef\u001b[0m \u001b[0m__setattr__\u001b[0m\u001b[0;34m(\u001b[0m\u001b[0mself\u001b[0m\u001b[0;34m,\u001b[0m \u001b[0mname\u001b[0m\u001b[0;34m,\u001b[0m \u001b[0mvalue\u001b[0m\u001b[0;34m)\u001b[0m\u001b[0;34m:\u001b[0m\u001b[0;34m\u001b[0m\u001b[0;34m\u001b[0m\u001b[0m\n",
            "\u001b[0;31mAttributeError\u001b[0m: 'Flatten' object has no attribute 'shape'"
          ]
        }
      ]
    }
  ]
}