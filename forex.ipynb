{
  "nbformat": 4,
  "nbformat_minor": 0,
  "metadata": {
    "colab": {
      "name": "forex.ipynb",
      "provenance": [],
      "collapsed_sections": [],
      "authorship_tag": "ABX9TyO+J84Xmr+5ncFY2ryWVgfp",
      "include_colab_link": true
    },
    "kernelspec": {
      "name": "python3",
      "display_name": "Python 3"
    },
    "accelerator": "GPU"
  },
  "cells": [
    {
      "cell_type": "markdown",
      "metadata": {
        "id": "view-in-github",
        "colab_type": "text"
      },
      "source": [
        "<a href=\"https://colab.research.google.com/github/lilnoes/notebooks/blob/main/forex.ipynb\" target=\"_parent\"><img src=\"https://colab.research.google.com/assets/colab-badge.svg\" alt=\"Open In Colab\"/></a>"
      ]
    },
    {
      "cell_type": "code",
      "metadata": {
        "id": "7sXHX1eCIdVd"
      },
      "source": [
        "import tensorflow as tf\n",
        "import tensorflow.keras as keras\n",
        "import numpy as np\n",
        "import pandas as pd\n",
        "from sklearn.model_selection import train_test_split\n",
        "import matplotlib.pyplot as plt\n",
        "import os"
      ],
      "execution_count": null,
      "outputs": []
    },
    {
      "cell_type": "code",
      "metadata": {
        "id": "tST0YrC4JDil"
      },
      "source": [
        "def getData(filename, length, usecolsx=[], usecolsy=[], cols=[], names=[]):\n",
        "    x_feats = len(usecolsx)\n",
        "    y_feats = len(usecolsy)\n",
        "    data = pd.read_csv(filename, usecols=cols, names=names, sep=sep)\n",
        "    size, _ = data.shape\n",
        "    outx = np.zeros((size-length, length, x_feats))\n",
        "    outy = np.zeros((size-length, y_feats))\n",
        "    \n",
        "    for i in range(size-length):\n",
        "        outx[i] = data.iloc[i:i+length, usecolsx].to_numpy()\n",
        "\n",
        "        outy[i] = data.iloc[i+length, usecolsy].to_numpy() > data.iloc[i+length-1, usecolsy].to_numpy()\n",
        "        \n",
        "    return outx, outy\n",
        "\n",
        "def getModel():\n",
        "  inputs = keras.Input(shape=(length,x_feats))\n",
        "  x = keras.layers.LSTM(rnn_units) (inputs)\n",
        "  # x = keras.layers.LSTM(rnn_units, stateful=True) (x)\n",
        "  # x = keras.layers.Dropout(rate)(x)\n",
        "  x = keras.layers.Dense(dense_units1, activation='relu')(x)\n",
        "  # x = keras.layers.Dense(dense_units2, activation='relu')(x)\n",
        "  x = keras.layers.Dense(y_feats, activation='sigmoid')(x)\n",
        "  return keras.Model(inputs=inputs, outputs=x)\n",
        "\n",
        "class MySave(tf.keras.callbacks.Callback):\n",
        "  def __init__(self, checkpoint, directory):\n",
        "    super(MySave, self).__init__()\n",
        "    self.manager = tf.train.CheckpointManager(checkpoint, directory, max_to_keep=1)\n",
        "    self.on_train_begin(None, False)\n",
        "\n",
        "  def on_train_begin(self, logs=None, l=True):\n",
        "    d = 0\n",
        "    if save is True:\n",
        "      d = self.manager.restore_or_initialize()\n",
        "    if d:\n",
        "      print('Model restored')\n",
        "      if l:\n",
        "        print('prev acc = ', self.manager.checkpoint.val_acc)\n",
        "    else:\n",
        "      print('Model initialized')\n",
        "\n",
        "  def on_epoch_end(self, epoch, logs):\n",
        "    if logs.get('val_acc', 0.0) >= self.manager.checkpoint.val_acc:\n",
        "      print('Saving model...')\n",
        "      self.manager.checkpoint.val_acc.assign(logs.get('val_acc'))\n",
        "      self.manager.save()\n",
        "\n",
        "def getDatasets(filename, test_size=0.2):\n",
        "  x, y = getData(filename, length, usecolsx, usecolsy, cols, names)\n",
        "  train_x, test_x, train_y, test_y = train_test_split(x, y, test_size=test_size)\n",
        "  trainds = tf.data.Dataset.from_tensor_slices((train_x, train_y))\n",
        "  trainds = trainds.shuffle(SHUFFLE).batch(BATCH).cache()\n",
        "  for i in trainds:\n",
        "    pass\n",
        "  trainds = trainds.repeat()\n",
        "\n",
        "  testds = tf.data.Dataset.from_tensor_slices((test_x, test_y))\n",
        "  testds = testds.batch(BATCH)\n",
        "  for i in testds:\n",
        "    pass\n",
        "  # return trainds, testds\n",
        "  return trainds, testds, x, y\n"
      ],
      "execution_count": null,
      "outputs": []
    },
    {
      "cell_type": "code",
      "metadata": {
        "id": "DQJOj4gl-gis"
      },
      "source": [
        "def trainAndSave(filename):\n",
        "  checkpoint_prefix = os.path.splitext(filename)[0]\n",
        "  checkpoint_directory = os.path.join(ml_folder, \"forex\", \"saved_models\", checkpoint_prefix)\n",
        "  data_filename = os.path.join(ml_folder, \"forex\", \"datasets\", filename)\n",
        "\n",
        "  optimizer = keras.optimizers.SGD(learning_rate=learning_rate)\n",
        "  loss = keras.losses.BinaryCrossentropy()\n",
        "  history = keras.callbacks.History()\n",
        "\n",
        "  trainds, testds, _, _= getDatasets(data_filename)\n",
        "  print(trainds, testds)\n",
        "\n",
        "  model = getModel()\n",
        "\n",
        "  model.compile(optimizer=optimizer, loss=loss)\n",
        "\n",
        "  checkpoint = tf.train.Checkpoint(model=model, val_acc=tf.Variable(0.0))\n",
        "\n",
        "\n",
        "  mySave = MySave(checkpoint, checkpoint_directory)\n",
        "\n",
        "  mySave.manager.restore_or_initialize()\n",
        "\n",
        "  hist = model.fit(trainds, epochs=epochs, validation_data=testds, steps_per_epoch=8, callbacks=[history, mySave])\n",
        "  histories[checkpoint_prefix] = hist\n",
        "\n",
        "\n",
        "  mySave.manager.restore_or_initialize()\n",
        "  \n",
        "  save_path = os.path.join(ml_folder, \"forex\", \"saved_models\", \"lite\", checkpoint_prefix+\".lite\")\n",
        "  print(save_path)\n",
        "\n",
        "  converter = tf.lite.TFLiteConverter.from_keras_model(model)\n",
        "  tflite_model = converter.convert()\n",
        "\n",
        "  tf.io.write_file(save_path, tflite_model)"
      ],
      "execution_count": null,
      "outputs": []
    },
    {
      "cell_type": "code",
      "metadata": {
        "id": "ohOjp0kJIppI",
        "colab": {
          "base_uri": "https://localhost:8080/",
          "height": 51
        },
        "outputId": "0dfc2f30-4fa4-482e-b73f-00f415dd88f3"
      },
      "source": [
        "ml_folder = os.path.join(\"/content/drive/Shared drives/lilnoes\", \"ml\")\n",
        "filenames_dir = os.path.join(ml_folder, \"forex\", \"datasets\")\n",
        "filenames = os.listdir(filenames_dir)\n",
        "print(filenames)\n",
        "names = ['open', 'high', 'low', 'close', 'volume', 'rsi14', 'rsi20', 'wma50', 'wma100', 'ema',\n",
        "        'obv', 'adxmain', 'adxplus', 'adxminus',\n",
        "         'macdmain', 'macdsignal',\n",
        "         'bandmain', 'bandupper', 'bandlower'\n",
        "        ]\n",
        "cols = list(range(1,20))\n",
        "print(len(cols), len(names))\n",
        "\n",
        "usecolsx = list(range(19))\n",
        "x_feats = len(usecolsx)\n",
        "sep = ';'\n",
        "\n",
        "usecolsy = [3]\n",
        "y_feats = len(usecolsy)\n",
        "length = 240\n",
        "\n",
        "\n",
        "BATCH = 64\n",
        "SHUFFLE = 20000\n",
        "rnn_units = 256\n",
        "dense_units1 = 16\n",
        "dense_units2 = 16\n",
        "epochs = 10\n",
        "rate = 0.25\n",
        "learning_rate=1.0e-1\n",
        "\n",
        "save = False\n",
        "\n",
        "histories = {}\n",
        "\n"
      ],
      "execution_count": null,
      "outputs": [
        {
          "output_type": "stream",
          "text": [
            "['EURUSDH1.csv', 'EURUSDH4.csv', 'EURUSDD1.csv', 'EURUSDM30.csv', 'EURUSDM15.csv']\n",
            "19 19\n"
          ],
          "name": "stdout"
        }
      ]
    },
    {
      "cell_type": "code",
      "metadata": {
        "id": "tKoYkV3Kfowf",
        "colab": {
          "base_uri": "https://localhost:8080/",
          "height": 34
        },
        "outputId": "56ee7967-7db1-4501-a05d-7e69599c38d0"
      },
      "source": [
        "filename = \"EURUSDM15.csv\"\n",
        "checkpoint_prefix = os.path.splitext(filename)[0]\n",
        "checkpoint_directory = os.path.join(ml_folder, \"forex\", \"saved_models\", checkpoint_prefix)\n",
        "data_filename = os.path.join(ml_folder, \"forex\", \"datasets\", filename)\n",
        "\n",
        "optimizer = keras.optimizers.SGD(lr=learning_rate)\n",
        "loss = keras.losses.BinaryCrossentropy()\n",
        "history = keras.callbacks.History()\n",
        "\n",
        "# trainds, testds, x, y= getDatasets(data_filename)\n",
        "# print(trainds, testds)\n",
        "\n",
        "model = getModel()\n",
        "\n",
        "model.compile(optimizer=optimizer, loss=loss, metrics=['acc'])\n",
        "\n",
        "checkpoint = tf.train.Checkpoint(model=model, val_acc=tf.Variable(0.0))\n",
        "\n",
        "mySave = MySave(checkpoint, checkpoint_directory)\n",
        "\n",
        "# mySave.manager.restore_or_initialize()\n",
        "\n",
        "histories[checkpoint_prefix] = hist\n",
        "\n",
        "\n",
        "# mySave.manager.restore_or_initialize()\n",
        "\n",
        "# save_path = os.path.join(ml_folder, \"forex\", \"saved_models\", \"lite\", checkpoint_prefix+\".lite\")\n",
        "# print(save_path)\n",
        "\n",
        "# converter = tf.lite.TFLiteConverter.from_keras_model(model)\n",
        "# tflite_model = converter.convert()\n",
        "\n",
        "# tf.io.write_file(save_path, tflite_model)"
      ],
      "execution_count": null,
      "outputs": [
        {
          "output_type": "stream",
          "text": [
            "Model initialized\n"
          ],
          "name": "stdout"
        }
      ]
    },
    {
      "cell_type": "code",
      "metadata": {
        "id": "Dg_FyDMsSDi7",
        "colab": {
          "base_uri": "https://localhost:8080/",
          "height": 1000
        },
        "outputId": "d958e9a1-bb3f-436e-d36b-f78b131f21b4"
      },
      "source": [
        "model.fit(trainds, epochs=50, steps_per_epoch=10)"
      ],
      "execution_count": null,
      "outputs": [
        {
          "output_type": "stream",
          "text": [
            "Epoch 1/50\n",
            "10/10 [==============================] - 1s 69ms/step - loss: 0.6936 - acc: 0.4984\n",
            "Epoch 2/50\n",
            "10/10 [==============================] - 1s 57ms/step - loss: 0.6929 - acc: 0.5125\n",
            "Epoch 3/50\n",
            "10/10 [==============================] - 1s 57ms/step - loss: 0.6941 - acc: 0.4781\n",
            "Epoch 4/50\n",
            "10/10 [==============================] - 1s 57ms/step - loss: 0.6927 - acc: 0.5281\n",
            "Epoch 5/50\n",
            "10/10 [==============================] - 1s 57ms/step - loss: 0.6926 - acc: 0.5203\n",
            "Epoch 6/50\n",
            "10/10 [==============================] - 1s 58ms/step - loss: 0.6940 - acc: 0.4844\n",
            "Epoch 7/50\n",
            "10/10 [==============================] - 1s 58ms/step - loss: 0.6931 - acc: 0.5109\n",
            "Epoch 8/50\n",
            "10/10 [==============================] - 1s 57ms/step - loss: 0.6934 - acc: 0.4953\n",
            "Epoch 9/50\n",
            "10/10 [==============================] - 1s 58ms/step - loss: 0.6935 - acc: 0.4844\n",
            "Epoch 10/50\n",
            "10/10 [==============================] - 1s 57ms/step - loss: 0.6932 - acc: 0.4797\n",
            "Epoch 11/50\n",
            "10/10 [==============================] - 1s 56ms/step - loss: 0.6929 - acc: 0.5188\n",
            "Epoch 12/50\n",
            "10/10 [==============================] - 1s 57ms/step - loss: 0.6939 - acc: 0.4594\n",
            "Epoch 13/50\n",
            "10/10 [==============================] - 1s 57ms/step - loss: 0.6929 - acc: 0.5063\n",
            "Epoch 14/50\n",
            "10/10 [==============================] - 1s 57ms/step - loss: 0.6938 - acc: 0.4766\n",
            "Epoch 15/50\n",
            "10/10 [==============================] - 1s 57ms/step - loss: 0.6932 - acc: 0.5281\n",
            "Epoch 16/50\n",
            "10/10 [==============================] - 1s 58ms/step - loss: 0.6935 - acc: 0.4781\n",
            "Epoch 17/50\n",
            "10/10 [==============================] - 1s 58ms/step - loss: 0.6930 - acc: 0.5203\n",
            "Epoch 18/50\n",
            "10/10 [==============================] - 1s 57ms/step - loss: 0.6931 - acc: 0.5094\n",
            "Epoch 19/50\n",
            "10/10 [==============================] - 1s 58ms/step - loss: 0.6929 - acc: 0.5188\n",
            "Epoch 20/50\n",
            "10/10 [==============================] - 1s 58ms/step - loss: 0.6929 - acc: 0.5156\n",
            "Epoch 21/50\n",
            "10/10 [==============================] - 1s 57ms/step - loss: 0.6918 - acc: 0.5344\n",
            "Epoch 22/50\n",
            "10/10 [==============================] - 1s 58ms/step - loss: 0.6937 - acc: 0.5031\n",
            "Epoch 23/50\n",
            "10/10 [==============================] - 1s 57ms/step - loss: 0.6916 - acc: 0.5344\n",
            "Epoch 24/50\n",
            "10/10 [==============================] - 1s 57ms/step - loss: 0.6943 - acc: 0.4922\n",
            "Epoch 25/50\n",
            "10/10 [==============================] - 1s 57ms/step - loss: 0.6936 - acc: 0.4984\n",
            "Epoch 26/50\n",
            "10/10 [==============================] - 1s 58ms/step - loss: 0.6917 - acc: 0.5375\n",
            "Epoch 27/50\n",
            "10/10 [==============================] - 1s 57ms/step - loss: 0.6946 - acc: 0.4797\n",
            "Epoch 28/50\n",
            "10/10 [==============================] - 1s 56ms/step - loss: 0.6935 - acc: 0.4953\n",
            "Epoch 29/50\n",
            "10/10 [==============================] - 1s 58ms/step - loss: 0.6922 - acc: 0.5406\n",
            "Epoch 30/50\n",
            "10/10 [==============================] - 1s 58ms/step - loss: 0.6927 - acc: 0.5188\n",
            "Epoch 31/50\n",
            "10/10 [==============================] - 1s 57ms/step - loss: 0.6925 - acc: 0.5203\n",
            "Epoch 32/50\n",
            "10/10 [==============================] - 1s 56ms/step - loss: 0.6935 - acc: 0.5031\n",
            "Epoch 33/50\n",
            "10/10 [==============================] - 1s 57ms/step - loss: 0.6924 - acc: 0.5234\n",
            "Epoch 34/50\n",
            "10/10 [==============================] - 1s 56ms/step - loss: 0.6918 - acc: 0.5312\n",
            "Epoch 35/50\n",
            "10/10 [==============================] - 1s 57ms/step - loss: 0.6947 - acc: 0.4875\n",
            "Epoch 36/50\n",
            "10/10 [==============================] - 1s 57ms/step - loss: 0.6923 - acc: 0.5266\n",
            "Epoch 37/50\n",
            "10/10 [==============================] - 1s 57ms/step - loss: 0.6933 - acc: 0.5094\n",
            "Epoch 38/50\n",
            "10/10 [==============================] - 1s 57ms/step - loss: 0.6926 - acc: 0.5188\n",
            "Epoch 39/50\n",
            "10/10 [==============================] - 1s 57ms/step - loss: 0.6937 - acc: 0.4984\n",
            "Epoch 40/50\n",
            "10/10 [==============================] - 1s 56ms/step - loss: 0.6933 - acc: 0.5063\n",
            "Epoch 41/50\n",
            "10/10 [==============================] - 1s 57ms/step - loss: 0.6928 - acc: 0.5172\n",
            "Epoch 42/50\n",
            "10/10 [==============================] - 1s 57ms/step - loss: 0.6939 - acc: 0.4922\n",
            "Epoch 43/50\n",
            "10/10 [==============================] - 1s 58ms/step - loss: 0.6928 - acc: 0.5203\n",
            "Epoch 44/50\n",
            "10/10 [==============================] - 1s 57ms/step - loss: 0.6935 - acc: 0.5000\n",
            "Epoch 45/50\n",
            "10/10 [==============================] - 1s 57ms/step - loss: 0.6936 - acc: 0.4922\n",
            "Epoch 46/50\n",
            "10/10 [==============================] - 1s 57ms/step - loss: 0.6935 - acc: 0.4891\n",
            "Epoch 47/50\n",
            "10/10 [==============================] - 1s 57ms/step - loss: 0.6930 - acc: 0.5250\n",
            "Epoch 48/50\n",
            "10/10 [==============================] - 1s 58ms/step - loss: 0.6931 - acc: 0.5141\n",
            "Epoch 49/50\n",
            "10/10 [==============================] - 1s 57ms/step - loss: 0.6931 - acc: 0.5094\n",
            "Epoch 50/50\n",
            "10/10 [==============================] - 1s 57ms/step - loss: 0.6924 - acc: 0.5281\n"
          ],
          "name": "stdout"
        },
        {
          "output_type": "execute_result",
          "data": {
            "text/plain": [
              "<tensorflow.python.keras.callbacks.History at 0x7f0c20a0bf98>"
            ]
          },
          "metadata": {
            "tags": []
          },
          "execution_count": 193
        }
      ]
    },
    {
      "cell_type": "code",
      "metadata": {
        "id": "-5PkbJ_23SGM",
        "colab": {
          "base_uri": "https://localhost:8080/",
          "height": 170
        },
        "outputId": "10b98bee-96f6-4c76-f6ed-a38fd0090d5e"
      },
      "source": [
        "num = 5\n",
        "x[-(num-1),-1], x[-num, -1], y[-num]"
      ],
      "execution_count": null,
      "outputs": [
        {
          "output_type": "execute_result",
          "data": {
            "text/plain": [
              "(array([ 1.1781    ,  1.17834   ,  1.17742   ,  1.17783   ,  0.1725    ,\n",
              "         0.31188937,  0.33320447,  1.18109425,  1.18365885,  1.18191238,\n",
              "        -0.483688  ,  0.16195135,  0.14459912,  0.23871197, -0.00278471,\n",
              "        -0.00236116,  1.182672  ,  1.19158165,  1.17376235]),\n",
              " array([ 1.17876   ,  1.17884   ,  1.17807   ,  1.1781    ,  0.1163    ,\n",
              "         0.32394043,  0.34162027,  1.18129315,  1.18379909,  1.18207901,\n",
              "        -0.481963  ,  0.15854014,  0.15050113,  0.21961769, -0.00275169,\n",
              "        -0.00228815,  1.1829018 ,  1.19199256,  1.17381104]),\n",
              " array([0.]))"
            ]
          },
          "metadata": {
            "tags": []
          },
          "execution_count": 54
        }
      ]
    },
    {
      "cell_type": "code",
      "metadata": {
        "id": "zmJKzOIMkgFD",
        "colab": {
          "base_uri": "https://localhost:8080/",
          "height": 68
        },
        "outputId": "da76bc57-9390-47ca-921c-f5044bf5b6ab"
      },
      "source": [
        "num = 1\n",
        "xx = np.expand_dims(x[-num], axis=0)\n",
        "xx = xx.astype(dtype=np.float32)\n",
        "preds = model.predict(xx)\n",
        "preds, y[-num], checkpoint_directory"
      ],
      "execution_count": null,
      "outputs": [
        {
          "output_type": "execute_result",
          "data": {
            "text/plain": [
              "(array([[0.49711612]], dtype=float32),\n",
              " array([1.]),\n",
              " '/content/drive/Shared drives/lilnoes/ml/forex/saved_models/EURUSDM15')"
            ]
          },
          "metadata": {
            "tags": []
          },
          "execution_count": 118
        }
      ]
    },
    {
      "cell_type": "code",
      "metadata": {
        "id": "TRCFefvlp2j5",
        "colab": {
          "base_uri": "https://localhost:8080/",
          "height": 34
        },
        "outputId": "6ca237d8-e201-4444-c62b-fac0de0b2c35"
      },
      "source": [
        "getOutput(\"EURUSDM15\", xx)"
      ],
      "execution_count": null,
      "outputs": [
        {
          "output_type": "execute_result",
          "data": {
            "text/plain": [
              "array([[1.1726568]], dtype=float32)"
            ]
          },
          "metadata": {
            "tags": []
          },
          "execution_count": 22
        }
      ]
    },
    {
      "cell_type": "code",
      "metadata": {
        "id": "fpkcJOVHgrxE"
      },
      "source": [
        "import tensorflow.lite as tflite\n",
        "models = {}\n",
        "MAIN_FOLDER = \"/content/drive/Shared drives/lilnoes/ml/forex/saved_models/lite\"\n",
        "def getOutput(name, input_tensor):\n",
        "\tif name not in models:\n",
        "\t\tmodels[name] = {}\n",
        "\t\tmodels[name]['save_path'] = os.path.join(MAIN_FOLDER, name+\".lite\")\n",
        "\t\tmodels[name]['interpreter'] = tflite.Interpreter(models[name]['save_path'])\n",
        "\t\tmodels[name]['input_details'] = models[name]['interpreter'].get_input_details()\n",
        "\t\tmodels[name]['output_details'] = models[name]['interpreter'].get_output_details()\n",
        "\t\tmodels[name]['interpreter'].allocate_tensors()\n",
        "\n",
        "\tmodels[name]['interpreter'].set_tensor(models[name]['input_details'][0]['index'], input_tensor)\n",
        "\tmodels[name]['interpreter'].invoke()\n",
        "\treturn models[name]['interpreter'].get_tensor(models[name]['output_details'][0]['index'])\n"
      ],
      "execution_count": null,
      "outputs": []
    },
    {
      "cell_type": "code",
      "metadata": {
        "id": "j5ahwwq6Adbb"
      },
      "source": [
        "for filename in filenames:\n",
        "  trainAndSave(filename)"
      ],
      "execution_count": null,
      "outputs": []
    },
    {
      "cell_type": "code",
      "metadata": {
        "id": "ZzxJCXdvnDDd",
        "colab": {
          "base_uri": "https://localhost:8080/",
          "height": 122
        },
        "outputId": "ebdeeb7c-87a0-4fe7-db7e-b8872bb0397d"
      },
      "source": [
        "from google.colab import drive\n",
        "drive.mount('/content/drive')"
      ],
      "execution_count": null,
      "outputs": [
        {
          "output_type": "stream",
          "text": [
            "Go to this URL in a browser: https://accounts.google.com/o/oauth2/auth?client_id=947318989803-6bn6qk8qdgf4n4g3pfee6491hc0brc4i.apps.googleusercontent.com&redirect_uri=urn%3aietf%3awg%3aoauth%3a2.0%3aoob&response_type=code&scope=email%20https%3a%2f%2fwww.googleapis.com%2fauth%2fdocs.test%20https%3a%2f%2fwww.googleapis.com%2fauth%2fdrive%20https%3a%2f%2fwww.googleapis.com%2fauth%2fdrive.photos.readonly%20https%3a%2f%2fwww.googleapis.com%2fauth%2fpeopleapi.readonly\n",
            "\n",
            "Enter your authorization code:\n",
            "··········\n",
            "Mounted at /content/drive\n"
          ],
          "name": "stdout"
        }
      ]
    },
    {
      "cell_type": "code",
      "metadata": {
        "id": "U1BZT_fCn-z6"
      },
      "source": [
        ""
      ],
      "execution_count": null,
      "outputs": []
    }
  ]
}