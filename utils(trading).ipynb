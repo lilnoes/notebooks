{
  "nbformat": 4,
  "nbformat_minor": 0,
  "metadata": {
    "colab": {
      "name": "utils.ipynb",
      "provenance": [],
      "collapsed_sections": [],
      "authorship_tag": "ABX9TyMR6/2SOQsaQP0MVme6J/eh",
      "include_colab_link": true
    },
    "kernelspec": {
      "name": "python3",
      "display_name": "Python 3"
    },
    "accelerator": "GPU"
  },
  "cells": [
    {
      "cell_type": "markdown",
      "metadata": {
        "id": "view-in-github",
        "colab_type": "text"
      },
      "source": [
        "<a href=\"https://colab.research.google.com/github/lilnoes/notebooks/blob/main/utils(trading).ipynb\" target=\"_parent\"><img src=\"https://colab.research.google.com/assets/colab-badge.svg\" alt=\"Open In Colab\"/></a>"
      ]
    },
    {
      "cell_type": "code",
      "metadata": {
        "id": "Nf97hlHN_b6n",
        "colab": {
          "base_uri": "https://localhost:8080/"
        },
        "outputId": "58f8aed5-c59c-45e9-c49d-f5f4f92bafbd"
      },
      "source": [
        "!git clone https://github.com/RameenAbdal/StyleFlow.git"
      ],
      "execution_count": null,
      "outputs": [
        {
          "output_type": "stream",
          "text": [
            "Cloning into 'StyleFlow'...\n",
            "remote: Enumerating objects: 205, done.\u001b[K\n",
            "remote: Counting objects: 100% (205/205), done.\u001b[K\n",
            "remote: Compressing objects: 100% (182/182), done.\u001b[K\n",
            "remote: Total 235 (delta 26), reused 188 (delta 19), pack-reused 30\u001b[K\n",
            "Receiving objects: 100% (235/235), 87.33 MiB | 37.76 MiB/s, done.\n",
            "Resolving deltas: 100% (27/27), done.\n"
          ],
          "name": "stdout"
        }
      ]
    },
    {
      "cell_type": "code",
      "metadata": {
        "id": "5S7mfWYrDJj_"
      },
      "source": [
        "!cd StyleFlow/"
      ],
      "execution_count": null,
      "outputs": []
    },
    {
      "cell_type": "code",
      "metadata": {
        "colab": {
          "base_uri": "https://localhost:8080/"
        },
        "id": "jjgonRD0DOj2",
        "outputId": "d700c0ca-9a57-4e28-caed-2bffcf6d5a85"
      },
      "source": [
        "!condast"
      ],
      "execution_count": null,
      "outputs": [
        {
          "output_type": "stream",
          "text": [
            "/bin/bash: conda: command not found\n"
          ],
          "name": "stdout"
        }
      ]
    },
    {
      "cell_type": "code",
      "metadata": {
        "id": "qtgRsZXFBEMO"
      },
      "source": [
        "import unicodedata\n",
        "def uni_to_asci(s):\n",
        "  return ''.join(c for c in unicodedata.normalize('NFD', s) if unicodedata.category(c) != 'Mn')"
      ],
      "execution_count": null,
      "outputs": []
    },
    {
      "cell_type": "code",
      "metadata": {
        "id": "IX_-QMqZBy9d"
      },
      "source": [
        "import re\n",
        "def preprocess_sentence(w):\n",
        "  w = uni_to_asci(w.lower().strip())\n",
        "  w = re.sub(r\"([¿?.!,])\", r\" \\1 \", w)\n",
        "  w = re.sub(r'\\s{2,}', \" \", w)\n",
        "  w = re.sub(r\"[^a-zA-Z?.!,¿]+\", \" \", w)\n",
        "\n",
        "  return '<start> ' + w.strip() + ' <end>'"
      ],
      "execution_count": null,
      "outputs": []
    },
    {
      "cell_type": "code",
      "metadata": {
        "id": "9AsuDcsMhBOF",
        "colab": {
          "base_uri": "https://localhost:8080/",
          "height": 204
        },
        "outputId": "91f9ec19-022d-4b25-aa87-7e5fc39a3c50"
      },
      "source": [
        "!wget https://www.alphavantage.co/query?function=FX_INTRADAY&from_symbol=EUR&to_symbol=USD&interval=5min&outputsize=full&apikey=demo"
      ],
      "execution_count": null,
      "outputs": [
        {
          "output_type": "stream",
          "text": [
            "--2020-06-30 14:41:49--  https://www.alphavantage.co/query?function=FX_INTRADAY\n",
            "Resolving www.alphavantage.co (www.alphavantage.co)... 52.203.131.51, 34.231.204.249, 52.22.244.167, ...\n",
            "Connecting to www.alphavantage.co (www.alphavantage.co)|52.203.131.51|:443... connected.\n",
            "HTTP request sent, awaiting response... 200 OK\n",
            "Length: unspecified [application/json]\n",
            "Saving to: ‘query?function=FX_INTRADAY’\n",
            "\n",
            "query?function=FX_I     [ <=>                ]     214  --.-KB/s    in 0s      \n",
            "\n",
            "2020-06-30 14:41:49 (7.76 MB/s) - ‘query?function=FX_INTRADAY’ saved [214]\n",
            "\n"
          ],
          "name": "stdout"
        }
      ]
    },
    {
      "cell_type": "code",
      "metadata": {
        "id": "buSMJ_3DhJYN"
      },
      "source": [
        "import histdata"
      ],
      "execution_count": null,
      "outputs": []
    },
    {
      "cell_type": "code",
      "metadata": {
        "id": "aiBUI8fDhMHm",
        "colab": {
          "base_uri": "https://localhost:8080/",
          "height": 86
        },
        "outputId": "6a56e353-0931-4932-bcab-62a311dd7798"
      },
      "source": [
        "histdata.download_hist_data(year='2019', pair='eurusd')"
      ],
      "execution_count": null,
      "outputs": [
        {
          "output_type": "stream",
          "text": [
            "https://www.histdata.com/download-free-forex-historical-data/?/ascii/1-minute-bar-quotes/eurusd/2019\n",
            "{'tk': 'c79e36fdf95309ea4da82ff965c4a299', 'date': '2019', 'datemonth': '2019', 'platform': 'ASCII', 'timeframe': 'M1', 'fxpair': 'EURUSD'}\n",
            "Wrote to ./DAT_ASCII_EURUSD_M1_2019.zip\n"
          ],
          "name": "stdout"
        },
        {
          "output_type": "execute_result",
          "data": {
            "application/vnd.google.colaboratory.intrinsic": {
              "type": "string"
            },
            "text/plain": [
              "'./DAT_ASCII_EURUSD_M1_2019.zip'"
            ]
          },
          "metadata": {
            "tags": []
          },
          "execution_count": 6
        }
      ]
    }
  ]
}